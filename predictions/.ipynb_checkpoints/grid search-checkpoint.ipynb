{
 "cells": [
  {
   "cell_type": "code",
   "execution_count": 27,
   "metadata": {},
   "outputs": [
    {
     "data": {
      "text/plain": [
       "0.08360284464692334"
      ]
     },
     "execution_count": 27,
     "metadata": {},
     "output_type": "execute_result"
    }
   ],
   "source": [
    "import os\n",
    "from ECG.ecg import read_ecg\n",
    "from ECG.ecg_sig import band_pass_filter\n",
    "from ECG.ecg import make_df_summary\n",
    "# file  =  os.path.join(os.path.dirname(os.path.realpath(__file__)),\"a01.dat\")\n",
    "# filer  =  os.path.join(os.path.dirname(os.path.realpath(__file__)),\"a01r.dat\")\n",
    "\n",
    "file  =  \"a01.dat\"\n",
    "filer  =  \"a01r.dat\"\n",
    "\n",
    "import pandas as pd\n",
    "import matplotlib.pyplot as plt\n",
    "plt.style.use('ggplot')\n",
    "import numpy as np\n",
    "from scipy.signal import find_peaks\n",
    "import numpy as np\n",
    "import matplotlib.pyplot as plt\n",
    "import pandas as pd\n",
    "from sklearn.model_selection import train_test_split,GridSearchCV\n",
    "from sklearn.metrics import mean_absolute_error\n",
    "\n",
    "data1 = pd.read_csv(\"freq_DT_Ampli_freqa1.csv\")\n",
    "data2 = pd.read_csv(\"freq_DT_Ampli_freqa2.csv\")\n",
    "data3 = pd.read_csv(\"freq_DT_Ampli_freqa3.csv\")\n",
    "data4 = pd.read_csv(\"freq_DT_Ampli_freqa4.csv\")\n",
    "data = pd.concat([data1,data2,data3,data4])\n",
    "data = data.drop(\"Unnamed: 0\",1)\n",
    "data[\"Amplitude\"] = data[\"Amplitude\"]/data[\"Amplitude\"].max()\n",
    "from sklearn.svm import SVR\n",
    "import numpy as np\n",
    "y = data[\"Freqr\"].values\n",
    "# X = data.drop('Freqr',1).values\n",
    "X = data.drop(['Freqr',\"Amplitude\"],1).values\n",
    "# X = data.drop(['Freq','Freqr',\"Amplitude\"],1).values\n",
    "X_train, X_test, y_train, y_test = train_test_split(\n",
    "    X, y, test_size=0.10, random_state=42)\n",
    "clf = SVR(gamma='scale', C=1.0, epsilon=0.1,kernel='rbf')\n",
    "clf.fit(X_train, y_train) \n",
    "clf.predict(X_test)\n",
    "mean_absolute_error(y_test,clf.predict(X_test))"
   ]
  },
  {
   "cell_type": "code",
   "execution_count": 21,
   "metadata": {},
   "outputs": [
    {
     "data": {
      "text/plain": [
       "GridSearchCV(cv=5, error_score='raise-deprecating',\n",
       "             estimator=SVR(C=1.0, cache_size=200, coef0=0.0, degree=3,\n",
       "                           epsilon=0.1, gamma='auto_deprecated', kernel='rbf',\n",
       "                           max_iter=-1, shrinking=True, tol=0.001,\n",
       "                           verbose=False),\n",
       "             iid='warn', n_jobs=-1,\n",
       "             param_grid={'C': array([0.01      , 0.03020408, 0.05040816, 0.07061224, 0.09081633,\n",
       "       0.11102041, 0.13122449, 0.15142857, 0.17163265, 0.191836...\n",
       "       0.61612245, 0.63632653, 0.65653061, 0.67673469, 0.69693878,\n",
       "       0.71714286, 0.73734694, 0.75755102, 0.7777551 , 0.79795918,\n",
       "       0.81816327, 0.83836735, 0.85857143, 0.87877551, 0.89897959,\n",
       "       0.91918367, 0.93938776, 0.95959184, 0.97979592, 1.        ]),\n",
       "                         'gamma': [0.001, 0.005, 0.1, 1],\n",
       "                         'kernel': ('linear', 'rbf', 'poly')},\n",
       "             pre_dispatch='2*n_jobs', refit=True, return_train_score=False,\n",
       "             scoring=None, verbose=0)"
      ]
     },
     "execution_count": 21,
     "metadata": {},
     "output_type": "execute_result"
    }
   ],
   "source": [
    "svr = SVR()\n",
    "parameters = {'kernel':('linear', 'rbf',\"poly\"), \n",
    "              'C':np.linspace(0.01,1,50),\n",
    "#              'epsilon': [0.0001, 0.0005, 0.001, 0.005, 0.01, 0.05, 0.1, 0.5, 1, 5, 10],\n",
    "            'gamma': [ 0.001, 0.005, 0.1, 1]\n",
    "             }\n",
    "grid = GridSearchCV(svr, parameters, cv=5,n_jobs=-1)\n",
    "grid.fit(X_train, y_train) "
   ]
  },
  {
   "cell_type": "code",
   "execution_count": 22,
   "metadata": {},
   "outputs": [
    {
     "data": {
      "text/plain": [
       "<bound method BaseEstimator.get_params of GridSearchCV(cv=5, error_score='raise-deprecating',\n",
       "             estimator=SVR(C=1.0, cache_size=200, coef0=0.0, degree=3,\n",
       "                           epsilon=0.1, gamma='auto_deprecated', kernel='rbf',\n",
       "                           max_iter=-1, shrinking=True, tol=0.001,\n",
       "                           verbose=False),\n",
       "             iid='warn', n_jobs=-1,\n",
       "             param_grid={'C': array([0.01      , 0.03020408, 0.05040816, 0.07061224, 0.09081633,\n",
       "       0.11102041, 0.13122449, 0.15142857, 0.17163265, 0.191836...\n",
       "       0.61612245, 0.63632653, 0.65653061, 0.67673469, 0.69693878,\n",
       "       0.71714286, 0.73734694, 0.75755102, 0.7777551 , 0.79795918,\n",
       "       0.81816327, 0.83836735, 0.85857143, 0.87877551, 0.89897959,\n",
       "       0.91918367, 0.93938776, 0.95959184, 0.97979592, 1.        ]),\n",
       "                         'gamma': [0.001, 0.005, 0.1, 1],\n",
       "                         'kernel': ('linear', 'rbf', 'poly')},\n",
       "             pre_dispatch='2*n_jobs', refit=True, return_train_score=False,\n",
       "             scoring=None, verbose=0)>"
      ]
     },
     "execution_count": 22,
     "metadata": {},
     "output_type": "execute_result"
    }
   ],
   "source": [
    "grid.get_params"
   ]
  },
  {
   "cell_type": "code",
   "execution_count": 23,
   "metadata": {},
   "outputs": [
    {
     "data": {
      "text/plain": [
       "0.08360284464692334"
      ]
     },
     "execution_count": 23,
     "metadata": {},
     "output_type": "execute_result"
    }
   ],
   "source": [
    "clf = SVR(C=1.0, cache_size=200, coef0=0.0, degree=3,\n",
    "                           epsilon=0.1, gamma='scale', kernel='rbf',\n",
    "                           max_iter=-1, shrinking=True, tol=0.001,\n",
    "                           verbose=False)\n",
    "clf.fit(X_train, y_train) \n",
    "clf.predict(X_test)\n",
    "mean_absolute_error(y_test,clf.predict(X_test))"
   ]
  },
  {
   "cell_type": "code",
   "execution_count": null,
   "metadata": {},
   "outputs": [],
   "source": []
  }
 ],
 "metadata": {
  "kernelspec": {
   "display_name": "Python 3",
   "language": "python",
   "name": "python3"
  },
  "language_info": {
   "codemirror_mode": {
    "name": "ipython",
    "version": 3
   },
   "file_extension": ".py",
   "mimetype": "text/x-python",
   "name": "python",
   "nbconvert_exporter": "python",
   "pygments_lexer": "ipython3",
   "version": "3.7.4"
  }
 },
 "nbformat": 4,
 "nbformat_minor": 2
}
