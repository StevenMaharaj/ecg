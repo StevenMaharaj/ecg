{
 "cells": [
  {
   "cell_type": "code",
   "execution_count": 1,
   "metadata": {},
   "outputs": [],
   "source": [
    "from ECG.ecg import read_ecg"
   ]
  },
  {
   "cell_type": "code",
   "execution_count": 3,
   "metadata": {},
   "outputs": [],
   "source": [
    "from ECG.ecg import read_ecg\n",
    "from ECG.ecg_sig import butter_highpass_filter,butter_lowpass_filter\n",
    "import os\n",
    "import numpy as np\n",
    "import matplotlib.pyplot as plt\n",
    "import sys\n",
    "import time\n",
    "\n",
    "plt.style.use('ggplot')\n",
    "\n",
    "# file  =  os.path.join(os.path.dirname(os.path.realpath(__file__)),\"../a01.dat\")\n",
    "file  =  \"a01.dat\""
   ]
  },
  {
   "cell_type": "code",
   "execution_count": 13,
   "metadata": {},
   "outputs": [
    {
     "name": "stdout",
     "output_type": "stream",
     "text": [
      "-12,-13,-12,-15,-13,-14,-14,-18,-16,-19,-16,-19,-16,-19,-17,-18,-18,-20,-17,-21,-18,-9,1,3,9,31,28,9,1,-8,-17,-40,-39,-40,-40,-48,-26,68,231,294,-31,-165,-118,-70,-31,-34,-28,-31,-23,-25,-18,-19,-13,-11,-3,-1,7,9,18,22,30,36,41,45,46,44,47,46,40,34,24,15,8,4,1,-1,-1,-2,-3,-2,0,-1,-4,-4,-3,-5,-7,-9,-9,-12,-13,-14,-11,-12,-16,-15,-18,-13,-15,-16,-16,-17,-18,-15,-17,-19,-21,-18,-19,-14,-9,1,6,14,39,29,10,-3,-5,-23,-36,-38,-37,-37,-43,2,115,237,192,-32,-148,-128,-70,-35,-29,-30,-29,-21,-24,-18,-17,-14,-8,-4,1,4,9,16,23,28,33,42,38,44,42,43,43,32,27,20,10,7,-1,1,-1,-3,-4,-2,0,-4,-1,-8,-7,-10,-8,-11,-15,-10,-15,-18,-16,-18,-16,-15,-17,-17,-19,-19,-21,-16,-23,-20,-19,-20,-15,-1,2,11,37,29,15,-1,-5,-22,-35,-36,-44,-35,-48,-6,106,242,244,-21,-159,-138,-75,-33,-31,-27,-30,-24,-24,-18,-19,-10,-10,-2,-1,6,16,15,29,31,40,40,48,47,49,49,43,36,30,18,7,5,0,-3,-6,0,-4,-1,-5,-6,-3,-2,-7,-8,-10,-9,-8,-15,-13,-19,-17,-17,-18,-20,-20,-16,-21,-21,-20,-21,-19,-20,-18,-7,2,7,14,38,25,9,-7,-12,-31,-42,-45,-40,-43,-53,14,173,299,125,-88,-163,-120,-62,-35,-36,-33,-27,-27,-23,-21,-17,-12,-6,-4,3,10,14,21,33,40,41,47,47,53,52,47,43,34,25,18,5,-3,-6,-7,-8,-8,-7,-8,-4,-8,-8,-6,-9,-13,-12,-12,-18,-16,-19,-17,-21,-18,-20,-21,-23,-20,-23,-22,-27,-19,-25,-21,-17,-3,4,6,27,32,21,6,-10,-10,-34,-41,-43,-35,-42,-43,35,218,340,67,-123,-141,-92,-35,-33,-29,-31,-23,-24,-21,-21,-17,-12,-3,-1,4,10,16,21,36,41,48,47,54,54,56,52,46,35,27,18,9,0,-1,-5,-5,-5,-4,0,-1,-1,-1,-1,-2,-5,-4,-8,-8,-8,-10,-12,-10,-13,-12,-14,-12,-18,-16,-19,-17,-20,-18,-19,-17,-20,-15,-19,-16,-15,0,6,7,27,29,14,3,-9,-11,-37,-38,-44,-36,-42,-37,44,230,344,31,-140,-132,-81,-30,-32,-27,-29,-24,-25,-18,-18,-11,-8,-3,0,6,10,19,"
     ]
    },
    {
     "ename": "KeyboardInterrupt",
     "evalue": "",
     "output_type": "error",
     "traceback": [
      "\u001b[0;31m---------------------------------------------------------------------------\u001b[0m",
      "\u001b[0;31mKeyboardInterrupt\u001b[0m                         Traceback (most recent call last)",
      "\u001b[0;32m<ipython-input-13-49c594c0c26e>\u001b[0m in \u001b[0;36m<module>\u001b[0;34m\u001b[0m\n\u001b[1;32m      7\u001b[0m         \u001b[0mtime\u001b[0m\u001b[0;34m.\u001b[0m\u001b[0msleep\u001b[0m\u001b[0;34m(\u001b[0m\u001b[0;36m0.1\u001b[0m\u001b[0;34m)\u001b[0m\u001b[0;34m\u001b[0m\u001b[0;34m\u001b[0m\u001b[0m\n\u001b[1;32m      8\u001b[0m \u001b[0;34m\u001b[0m\u001b[0m\n\u001b[0;32m----> 9\u001b[0;31m \u001b[0mreal_time_read_ecg\u001b[0m\u001b[0;34m(\u001b[0m\u001b[0mfile\u001b[0m\u001b[0;34m)\u001b[0m\u001b[0;34m\u001b[0m\u001b[0;34m\u001b[0m\u001b[0m\n\u001b[0m",
      "\u001b[0;32m<ipython-input-13-49c594c0c26e>\u001b[0m in \u001b[0;36mreal_time_read_ecg\u001b[0;34m(file)\u001b[0m\n\u001b[1;32m      5\u001b[0m \u001b[0;31m#         print(read_ecg(file,offest,events = 1)[0])\u001b[0m\u001b[0;34m\u001b[0m\u001b[0;34m\u001b[0m\u001b[0;34m\u001b[0m\u001b[0m\n\u001b[1;32m      6\u001b[0m         \u001b[0moffest\u001b[0m \u001b[0;34m+=\u001b[0m \u001b[0;36m1\u001b[0m\u001b[0;34m\u001b[0m\u001b[0;34m\u001b[0m\u001b[0m\n\u001b[0;32m----> 7\u001b[0;31m         \u001b[0mtime\u001b[0m\u001b[0;34m.\u001b[0m\u001b[0msleep\u001b[0m\u001b[0;34m(\u001b[0m\u001b[0;36m0.1\u001b[0m\u001b[0;34m)\u001b[0m\u001b[0;34m\u001b[0m\u001b[0;34m\u001b[0m\u001b[0m\n\u001b[0m\u001b[1;32m      8\u001b[0m \u001b[0;34m\u001b[0m\u001b[0m\n\u001b[1;32m      9\u001b[0m \u001b[0mreal_time_read_ecg\u001b[0m\u001b[0;34m(\u001b[0m\u001b[0mfile\u001b[0m\u001b[0;34m)\u001b[0m\u001b[0;34m\u001b[0m\u001b[0;34m\u001b[0m\u001b[0m\n",
      "\u001b[0;31mKeyboardInterrupt\u001b[0m: "
     ]
    }
   ],
   "source": [
    "def real_time_read_ecg(file):\n",
    "    offest = 0\n",
    "    while True:\n",
    "        sys.stdout.write(f'{read_ecg(file,offest,events = 1)[0]},')\n",
    "#         print(read_ecg(file,offest,events = 1)[0])\n",
    "        offest += 1\n",
    "        time.sleep(0.1)\n",
    "        \n",
    "real_time_read_ecg(file)   "
   ]
  },
  {
   "cell_type": "code",
   "execution_count": 6,
   "metadata": {},
   "outputs": [
    {
     "data": {
      "text/plain": [
       "-12"
      ]
     },
     "execution_count": 6,
     "metadata": {},
     "output_type": "execute_result"
    }
   ],
   "source": [
    "import asyncio\n",
    "import random\n",
    "import time\n",
    "real_time_read_ecg(file)  "
   ]
  },
  {
   "cell_type": "code",
   "execution_count": 14,
   "metadata": {},
   "outputs": [],
   "source": []
  },
  {
   "cell_type": "code",
   "execution_count": null,
   "metadata": {},
   "outputs": [],
   "source": []
  }
 ],
 "metadata": {
  "kernelspec": {
   "display_name": "Python 3",
   "language": "python",
   "name": "python3"
  },
  "language_info": {
   "codemirror_mode": {
    "name": "ipython",
    "version": 3
   },
   "file_extension": ".py",
   "mimetype": "text/x-python",
   "name": "python",
   "nbconvert_exporter": "python",
   "pygments_lexer": "ipython3",
   "version": "3.7.3"
  }
 },
 "nbformat": 4,
 "nbformat_minor": 2
}
